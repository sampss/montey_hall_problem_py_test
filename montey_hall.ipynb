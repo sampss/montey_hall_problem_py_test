{
 "cells": [
  {
   "cell_type": "code",
   "execution_count": 20,
   "metadata": {},
   "outputs": [],
   "source": [
    "import pandas as pd\n",
    "import matplotlib as mpl\n",
    "import random\n",
    "\n"
   ]
  },
  {
   "cell_type": "code",
   "execution_count": 35,
   "metadata": {},
   "outputs": [
    {
     "name": "stdout",
     "output_type": "stream",
     "text": [
      "Random Winning Door: 3\n",
      "person 1. door: 2\n",
      "person 2. door: 1\n",
      "Host Remove door base: 2\n"
     ]
    }
   ],
   "source": [
    "door_1 = None\n",
    "door_2 = None\n",
    "door_3 = None\n",
    "\n",
    "random_winning_door = random.randint(1, 3) # random number that is winning door\n",
    "print(f'Random Winning Door: {random_winning_door}')\n",
    "\n",
    "person_1 = random.randint(1, 3)  # setup initail door selection, always chooses the same door\n",
    "person_2 = random.randint(1, 3)  # setup initail door selection, always chooses to switch doors\n",
    "print(f'person 1. door: {person_1}\\nperson 2. door: {person_2}')\n",
    "\n",
    "host_remove_door = random.randint(1, 2) # which door to select of the two remaining choices initially.\n",
    "print(f'Host Remove door base: {host_remove_door}')\n"
   ]
  },
  {
   "cell_type": "code",
   "execution_count": 26,
   "metadata": {},
   "outputs": [
    {
     "name": "stdout",
     "output_type": "stream",
     "text": [
      "door_1: L\n",
      "door_2: L\n",
      "door_3: W\n"
     ]
    }
   ],
   "source": [
    "# Set door variables based on the winning door \n",
    "# Set doors for winning/losing with both an if elif statement and a match case.\n",
    "'''\n",
    "if random_winning_door == 1: \n",
    "    door_1 = 'W' \n",
    "    door_2 = 'L' \n",
    "    door_3 = 'L' \n",
    "elif random_winning_door == 2: \n",
    "    door_1 = 'L' \n",
    "    door_2 = 'W' \n",
    "    door_3 = 'L' \n",
    "elif random_winning_door == 3: \n",
    "    door_1 = 'L' \n",
    "    door_2 = 'L' \n",
    "    door_3 = 'W' \n",
    "'''\n",
    "match random_winning_door: \n",
    "    case 1: \n",
    "        door_1 = 'W' \n",
    "        door_2 = 'L' \n",
    "        door_3 = 'L' \n",
    "    case 2: \n",
    "        door_1 = 'L' \n",
    "        door_2 = 'W' \n",
    "        door_3 = 'L' \n",
    "    case 3: \n",
    "        door_1 = 'L' \n",
    "        door_2 = 'L' \n",
    "        door_3 = 'W'\n",
    "\n",
    "# Print the results \n",
    "print(f\"door_1: {door_1}\") \n",
    "print(f\"door_2: {door_2}\") \n",
    "print(f\"door_3: {door_3}\")\n",
    "\n",
    "\n"
   ]
  },
  {
   "cell_type": "code",
   "execution_count": null,
   "metadata": {},
   "outputs": [],
   "source": []
  }
 ],
 "metadata": {
  "kernelspec": {
   "display_name": "montey_venv",
   "language": "python",
   "name": "python3"
  },
  "language_info": {
   "codemirror_mode": {
    "name": "ipython",
    "version": 3
   },
   "file_extension": ".py",
   "mimetype": "text/x-python",
   "name": "python",
   "nbconvert_exporter": "python",
   "pygments_lexer": "ipython3",
   "version": "3.13.0"
  }
 },
 "nbformat": 4,
 "nbformat_minor": 2
}
