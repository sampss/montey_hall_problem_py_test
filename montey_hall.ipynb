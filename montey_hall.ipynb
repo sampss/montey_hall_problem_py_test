{
 "cells": [
  {
   "cell_type": "code",
   "execution_count": 244,
   "metadata": {},
   "outputs": [],
   "source": [
    "import pandas as pd\n",
    "import matplotlib as mpl\n",
    "import random\n",
    "\n"
   ]
  },
  {
   "cell_type": "code",
   "execution_count": 245,
   "metadata": {},
   "outputs": [
    {
     "name": "stdout",
     "output_type": "stream",
     "text": [
      "{'D1': None, 'D2': None, 'D3': None}\n",
      "Random Winning Door: 3\n"
     ]
    }
   ],
   "source": [
    "#init door dictionary.\n",
    "doors = {\n",
    "    'D1': None,\n",
    "    'D2': None,\n",
    "    'D3': None\n",
    "}\n",
    "print(doors)\n",
    "\n",
    "random_winning_door = random.randint(1, 3) # random number that is winning door\n",
    "print(f'Random Winning Door: {random_winning_door}')"
   ]
  },
  {
   "cell_type": "code",
   "execution_count": 246,
   "metadata": {},
   "outputs": [
    {
     "name": "stdout",
     "output_type": "stream",
     "text": [
      "door 1: L\n",
      "door 2: L\n",
      "door 3: W\n"
     ]
    }
   ],
   "source": [
    "# set the results of the doors to W win or L lose\n",
    "match random_winning_door: \n",
    "    case 1: \n",
    "        doors['D1'] = 'W' \n",
    "        doors['D2'] = 'L' \n",
    "        doors['D3'] = 'L' \n",
    "    case 2: \n",
    "        doors['D1'] = 'L' \n",
    "        doors['D2'] = 'W' \n",
    "        doors['D3'] = 'L' \n",
    "    case 3: \n",
    "        doors['D1'] = 'L' \n",
    "        doors['D2'] = 'L' \n",
    "        doors['D3'] = 'W'\n",
    "\n",
    "# Print the results \n",
    "print(f\"door 1: {doors['D1']}\") \n",
    "print(f\"door 2: {doors['D2']}\") \n",
    "print(f\"door 3: {doors['D3']}\")"
   ]
  },
  {
   "cell_type": "code",
   "execution_count": 247,
   "metadata": {},
   "outputs": [
    {
     "name": "stdout",
     "output_type": "stream",
     "text": [
      "person chose door: 1\n",
      "Host Remove door index: 0\n"
     ]
    }
   ],
   "source": [
    "selected_door = random.randint(1, 3)  # setup initail door selection, One senario will alway choose keep, another always choose to change\n",
    "print(f'person chose door: {selected_door}')\n",
    "\n",
    "host_remove_door = random.randint(0, 1) #(index) which door to select of the two remaining choices initially.\n",
    "print(f'Host Remove door index: {host_remove_door}')"
   ]
  },
  {
   "cell_type": "code",
   "execution_count": 248,
   "metadata": {},
   "outputs": [
    {
     "name": "stdout",
     "output_type": "stream",
     "text": [
      "Unselected doors are: ['D2', 'D3']\n",
      "Host wants to remove door: D2\n",
      "The init door to trash is a: L\n",
      "Selected door Number: 1\n",
      "Selected door str: D1\n"
     ]
    }
   ],
   "source": [
    "# code for creating a list of unchosen doors, creating a selected door str \n",
    "unselected_doors = []\n",
    "selected_door_str = ''\n",
    "\n",
    "match selected_door:\n",
    "    case 1: \n",
    "        unselected_doors = ['D2', 'D3']\n",
    "        selected_door_str = 'D1'\n",
    "    case 2: \n",
    "        unselected_doors = ['D1', 'D3']\n",
    "        selected_door_str = 'D2'\n",
    "    case 3: \n",
    "        unselected_doors = ['D1', 'D2']\n",
    "        selected_door_str = 'D3'\n",
    "\n",
    "print(f'Unselected doors are: {unselected_doors}')\n",
    "print(f'Host wants to remove door: {unselected_doors[host_remove_door]}')\n",
    "print(f'The init door to trash is a: {doors[unselected_doors[0]]}')\n",
    "print(f'Selected door Number: {selected_door}') #should match the str, D2 -> 2, D3 -> 3\n",
    "print(f'Selected door str: {selected_door_str}')\n"
   ]
  },
  {
   "cell_type": "code",
   "execution_count": 249,
   "metadata": {},
   "outputs": [
    {
     "name": "stdout",
     "output_type": "stream",
     "text": [
      "Door Selected: D1\n",
      "door host initially wants to remove: D2\n",
      "Unselected doors: ['D2', 'D3']\n",
      "Unselected doors values: L, W\n",
      "Host removed door: D2\n",
      "Remaining doors: {'D1': 'L', 'D3': 'W'}\n"
     ]
    }
   ],
   "source": [
    "'''\n",
    "Here I need to choose the door that the host will remove\n",
    "I will need to select the door to remove and if it is a W then remove the other door\n",
    "'''\n",
    "print(f'Door Selected: {selected_door_str}')\n",
    "print(f'door host initially wants to remove: {unselected_doors[host_remove_door]}')\n",
    "print(f'Unselected doors: {unselected_doors}')\n",
    "print(f'Unselected doors values: {doors[unselected_doors[0]]}, {doors[unselected_doors[1]]}')\n",
    "\n",
    "\n",
    "# code to determine what door to drop.        \n",
    "if host_remove_door == 0:\n",
    "    if  doors[unselected_doors[0]] == 'L':\n",
    "      del doors[unselected_doors[0]]\n",
    "    else:\n",
    "      host_remove_door = 1 # modified only for tracking purposes\n",
    "      del doors[unselected_doors[1]]\n",
    "else:\n",
    "    if doors[unselected_doors[1]] == 'L':\n",
    "      del doors[unselected_doors[1]]\n",
    "    else:\n",
    "      host_remove_door = 0\n",
    "      del doors[unselected_doors[0]]\n",
    "\n",
    "print(f'Host removed door: {unselected_doors[host_remove_door]}') # Door host removed\n",
    "print(f'Remaining doors: {doors}') # Remaining doors\n"
   ]
  },
  {
   "cell_type": "code",
   "execution_count": 250,
   "metadata": {},
   "outputs": [
    {
     "name": "stdout",
     "output_type": "stream",
     "text": [
      "Remaining doors: ['D1', 'D3']\n",
      "Door initially selected: D1\n",
      "Door changed to: D3\n"
     ]
    }
   ],
   "source": [
    " # selecting the other door.  for graphing purposes    \n",
    "choose_change = ''\n",
    "doors_list = list(doors)\n",
    "\n",
    "print(f'Remaining doors: {doors_list}')\n",
    "print(f'Door initially selected: {selected_door_str}')\n",
    "\n",
    "if selected_door_str == doors_list[0]:\n",
    "    choose_change = doors_list[1]\n",
    "else:\n",
    "    choose_change = doors_list[0]\n",
    "\n",
    "print(f'Door changed to: {choose_change}')\n"
   ]
  },
  {
   "cell_type": "code",
   "execution_count": 251,
   "metadata": {},
   "outputs": [
    {
     "name": "stdout",
     "output_type": "stream",
     "text": [
      "D3 door wins!  You Lose\n"
     ]
    }
   ],
   "source": [
    "if doors[selected_door_str] == 'W':\n",
    "    print(f'{selected_door_str} is a Winner')\n",
    "else:\n",
    "    print(f'{choose_change} door wins!  You Lose')"
   ]
  }
 ],
 "metadata": {
  "kernelspec": {
   "display_name": "montey_venv",
   "language": "python",
   "name": "python3"
  },
  "language_info": {
   "codemirror_mode": {
    "name": "ipython",
    "version": 3
   },
   "file_extension": ".py",
   "mimetype": "text/x-python",
   "name": "python",
   "nbconvert_exporter": "python",
   "pygments_lexer": "ipython3",
   "version": "3.13.0"
  }
 },
 "nbformat": 4,
 "nbformat_minor": 2
}
