{
 "cells": [
  {
   "cell_type": "markdown",
   "metadata": {},
   "source": [
    "### Imports"
   ]
  },
  {
   "cell_type": "code",
   "execution_count": 2,
   "metadata": {},
   "outputs": [],
   "source": [
    "import pandas as pd\n",
    "import matplotlib as mpl\n",
    "import random"
   ]
  },
  {
   "cell_type": "code",
   "execution_count": null,
   "metadata": {},
   "outputs": [],
   "source": []
  },
  {
   "cell_type": "markdown",
   "metadata": {},
   "source": [
    "### repeating code to get a ton of results"
   ]
  },
  {
   "cell_type": "code",
   "execution_count": 28,
   "metadata": {},
   "outputs": [
    {
     "name": "stdout",
     "output_type": "stream",
     "text": [
      "D1 is a Winner\n"
     ]
    }
   ],
   "source": [
    "doors = {\n",
    "    'D1': None,\n",
    "    'D2': None,\n",
    "    'D3': None\n",
    "}\n",
    "\n",
    "random_winning_door = random.randint(1, 3) \n",
    "\n",
    "match random_winning_door: \n",
    "    case 1: \n",
    "        doors['D1'] = 'W' \n",
    "        doors['D2'] = 'L' \n",
    "        doors['D3'] = 'L' \n",
    "    case 2: \n",
    "        doors['D1'] = 'L' \n",
    "        doors['D2'] = 'W' \n",
    "        doors['D3'] = 'L' \n",
    "    case 3: \n",
    "        doors['D1'] = 'L' \n",
    "        doors['D2'] = 'L' \n",
    "        doors['D3'] = 'W'\n",
    "\n",
    "selected_door = random.randint(1, 3)\n",
    "host_remove_door = random.randint(0, 1)\n",
    "\n",
    "unselected_doors = []\n",
    "selected_door_str = ''\n",
    "\n",
    "match selected_door:\n",
    "    case 1: \n",
    "        unselected_doors = ['D2', 'D3']\n",
    "        selected_door_str = 'D1'\n",
    "    case 2: \n",
    "        unselected_doors = ['D1', 'D3']\n",
    "        selected_door_str = 'D2'\n",
    "    case 3: \n",
    "        unselected_doors = ['D1', 'D2']\n",
    "        selected_door_str = 'D3'\n",
    "\n",
    "if host_remove_door == 0:\n",
    "    if  doors[unselected_doors[0]] == 'L':\n",
    "      del doors[unselected_doors[0]]\n",
    "    else:\n",
    "      host_remove_door = 1 # modified only for tracking purposes\n",
    "      del doors[unselected_doors[1]]\n",
    "else:\n",
    "    if doors[unselected_doors[1]] == 'L':\n",
    "      del doors[unselected_doors[1]]\n",
    "    else:\n",
    "      host_remove_door = 0\n",
    "      del doors[unselected_doors[0]]\n",
    "\n",
    "choose_change = ''\n",
    "doors_list = list(doors)\n",
    "\n",
    "if selected_door_str == doors_list[0]:\n",
    "    choose_change = doors_list[1]\n",
    "else:\n",
    "    choose_change = doors_list[0]\n",
    "    \n",
    "# Final section may need modified\n",
    "if doors[selected_door_str] == 'W':\n",
    "    print(f'{selected_door_str} is a Winner')\n",
    "else:\n",
    "    print(f'{choose_change} door wins!  You Lose')"
   ]
  }
 ],
 "metadata": {
  "kernelspec": {
   "display_name": "montey_venv",
   "language": "python",
   "name": "python3"
  },
  "language_info": {
   "codemirror_mode": {
    "name": "ipython",
    "version": 3
   },
   "file_extension": ".py",
   "mimetype": "text/x-python",
   "name": "python",
   "nbconvert_exporter": "python",
   "pygments_lexer": "ipython3",
   "version": "3.13.0"
  }
 },
 "nbformat": 4,
 "nbformat_minor": 2
}
