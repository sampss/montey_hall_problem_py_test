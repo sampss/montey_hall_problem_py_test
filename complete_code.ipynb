{
 "cells": [
  {
   "cell_type": "markdown",
   "metadata": {},
   "source": [
    "### Imports"
   ]
  },
  {
   "cell_type": "code",
   "execution_count": 1,
   "metadata": {},
   "outputs": [],
   "source": [
    "import pandas as pd\n",
    "import matplotlib.pyplot as plt\n",
    "import random"
   ]
  },
  {
   "cell_type": "code",
   "execution_count": 2,
   "metadata": {},
   "outputs": [],
   "source": [
    "# Initialize variables \n",
    "results = [] \n",
    "\n",
    "# Number of simulations \n",
    "num_simulations = 1000000\n",
    "\n",
    "count = 0"
   ]
  },
  {
   "cell_type": "markdown",
   "metadata": {},
   "source": [
    "### repeating code to get a ton of results"
   ]
  },
  {
   "cell_type": "code",
   "execution_count": 3,
   "metadata": {},
   "outputs": [],
   "source": [
    "for _ in range(num_simulations):\n",
    "\n",
    "    doors = {\n",
    "        'D1': None,\n",
    "        'D2': None,\n",
    "        'D3': None\n",
    "    }\n",
    "\n",
    "    random_winning_door = random.randint(1, 3) \n",
    "\n",
    "    match random_winning_door: \n",
    "        case 1: \n",
    "            doors['D1'] = 'W' \n",
    "            doors['D2'] = 'L' \n",
    "            doors['D3'] = 'L' \n",
    "        case 2: \n",
    "            doors['D1'] = 'L' \n",
    "            doors['D2'] = 'W' \n",
    "            doors['D3'] = 'L' \n",
    "        case 3: \n",
    "            doors['D1'] = 'L' \n",
    "            doors['D2'] = 'L' \n",
    "            doors['D3'] = 'W'\n",
    "\n",
    "    selected_door = random.randint(1, 3)\n",
    "    host_remove_door = random.randint(0, 1)\n",
    "\n",
    "    unselected_doors = []\n",
    "    selected_door_str = ''\n",
    "\n",
    "    match selected_door:\n",
    "        case 1: \n",
    "            unselected_doors = ['D2', 'D3']\n",
    "            selected_door_str = 'D1'\n",
    "        case 2: \n",
    "            unselected_doors = ['D1', 'D3']\n",
    "            selected_door_str = 'D2'\n",
    "        case 3: \n",
    "            unselected_doors = ['D1', 'D2']\n",
    "            selected_door_str = 'D3'\n",
    "\n",
    "    if host_remove_door == 0:\n",
    "        if  doors[unselected_doors[0]] == 'L':\n",
    "            del doors[unselected_doors[0]]\n",
    "        else:\n",
    "            host_remove_door = 1\n",
    "            del doors[unselected_doors[1]]\n",
    "    else:\n",
    "        if doors[unselected_doors[1]] == 'L':\n",
    "            del doors[unselected_doors[1]]\n",
    "        else:\n",
    "            host_remove_door = 0\n",
    "            del doors[unselected_doors[0]]\n",
    "\n",
    "    choose_change = ''\n",
    "    doors_list = list(doors)\n",
    "\n",
    "    if selected_door_str == doors_list[0]:\n",
    "        choose_change = doors_list[1]\n",
    "    else:\n",
    "        choose_change = doors_list[0]\n",
    "        \n",
    "    # Record results \n",
    "    result = { \n",
    "        'Initial_Choice': 'Win' if doors[selected_door_str] == 'W' else 'Lose', \n",
    "        'Switch_Choice': 'Win' if doors[choose_change] == 'W' else 'Lose' \n",
    "    } \n",
    "    results.append(result)\n",
    "\n",
    "    count = count + 1 "
   ]
  },
  {
   "cell_type": "code",
   "execution_count": 4,
   "metadata": {},
   "outputs": [
    {
     "name": "stdout",
     "output_type": "stream",
     "text": [
      "1000000\n",
      "--------------------\n",
      "Initial_Choice\n",
      "Lose    667036\n",
      "Win     332964\n",
      "Name: count, dtype: int64\n",
      "---------------------\n",
      "Switch_Choice\n",
      "Win     667036\n",
      "Lose    332964\n",
      "Name: count, dtype: int64\n"
     ]
    }
   ],
   "source": [
    "# Add results to a dataframe\n",
    "df = pd.DataFrame(results)\n",
    "# Save results to CSV \n",
    "df.to_csv('monty_hall_results.csv', index=False)\n",
    "print(f'{count}\\n--------------------')\n",
    "\n",
    "print(df['Initial_Choice'].value_counts())\n",
    "print('---------------------')\n",
    "print(df['Switch_Choice'].value_counts())"
   ]
  },
  {
   "cell_type": "code",
   "execution_count": 5,
   "metadata": {},
   "outputs": [
    {
     "data": {
      "image/png": "[encoded data removed]",
      "text/plain": [
       "<Figure size 1000x600 with 1 Axes>"
      ]
     },
     "metadata": {},
     "output_type": "display_data"
    }
   ],
   "source": [
    "# Count occurrences\n",
    "keep_door_counts = df['Initial_Choice'].value_counts()\n",
    "switch_door_counts = df['Switch_Choice'].value_counts()\n",
    "\n",
    "# Create bar plot\n",
    "labels = ['Keep Door Win', 'Keep Door Lose', 'Switch Door Win', 'Switch Door Lose']\n",
    "counts = [keep_door_counts['Win'], keep_door_counts['Lose'], switch_door_counts['Win'], switch_door_counts['Lose']]\n",
    "\n",
    "plt.figure(figsize=(10, 6))\n",
    "plt.bar(labels, counts, color=['#191970', '#ce2029', '#000080', '#dc143c'])\n",
    "\n",
    "# Add Labels\n",
    "plt.xlabel('Outcome')\n",
    "plt.ylabel('Count')\n",
    "plt.title('Monty Hall Sim Result')\n",
    "\n",
    "# Display the plot\n",
    "plt.show()"
   ]
  }
 ],
 "metadata": {
  "kernelspec": {
   "display_name": "montey_venv",
   "language": "python",
   "name": "python3"
  },
  "language_info": {
   "codemirror_mode": {
    "name": "ipython",
    "version": 3
   },
   "file_extension": ".py",
   "mimetype": "text/x-python",
   "name": "python",
   "nbconvert_exporter": "python",
   "pygments_lexer": "ipython3",
   "version": "3.13.0"
  }
 },
 "nbformat": 4,
 "nbformat_minor": 2
}
